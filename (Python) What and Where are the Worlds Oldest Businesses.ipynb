{
 "cells": [
  {
   "cell_type": "markdown",
   "metadata": {
    "dc": {
     "key": "4"
    },
    "deletable": false,
    "editable": false,
    "run_control": {
     "frozen": true
    },
    "tags": [
     "context"
    ]
   },
   "source": [
    "## 1. The oldest businesses in the world\n",
    "<p>This is Staffelter Hof Winery, Germany's oldest business, which was established in 862 under the Carolingian dynasty. It has continued to serve customers through dramatic changes in Europe such as the Holy Roman Empire, the Ottoman Empire, and both world wars. What characteristics enable a business to stand the test of time? Image credit: <a href=\"https://commons.wikimedia.org/wiki/File:MKn_Staffelter_Hof.jpg\">Martin Kraft</a>\n",
    "<img src=\"https://assets.datacamp.com/production/project_1383/./img/MKn_Staffelter_Hof.jpeg\" alt=\"The entrance to Staffelter Hof Winery, a German winery established in 862.\" width=\"400\"></p>\n",
    "<p>To help answer this question, BusinessFinancing.co.uk <a href=\"https://businessfinancing.co.uk/the-oldest-company-in-almost-every-country\">researched</a> the oldest company that is still in business in almost every country and compiled the results into a dataset. Let's explore this work to to better understand these historic businesses. Our datasets, which are all located in the <code>datasets</code> directory, contain the following information: </p>\n",
    "<h3 id=\"businessesandnew_businesses\"><code>businesses</code> and <code>new_businesses</code></h3>\n",
    "<table>\n",
    "<thead>\n",
    "<tr>\n",
    "<th style=\"text-align:left;\">column</th>\n",
    "<th>type</th>\n",
    "<th>meaning</th>\n",
    "</tr>\n",
    "</thead>\n",
    "<tbody>\n",
    "<tr>\n",
    "<td style=\"text-align:left;\"><code>business</code></td>\n",
    "<td>varchar</td>\n",
    "<td>Name of the business.</td>\n",
    "</tr>\n",
    "<tr>\n",
    "<td style=\"text-align:left;\"><code>year_founded</code></td>\n",
    "<td>int</td>\n",
    "<td>Year the business was founded.</td>\n",
    "</tr>\n",
    "<tr>\n",
    "<td style=\"text-align:left;\"><code>category_code</code></td>\n",
    "<td>varchar</td>\n",
    "<td>Code for the category of the business.</td>\n",
    "</tr>\n",
    "<tr>\n",
    "<td style=\"text-align:left;\"><code>country_code</code></td>\n",
    "<td>char</td>\n",
    "<td>ISO 3166-1 3-letter country code.</td>\n",
    "</tr>\n",
    "</tbody>\n",
    "</table>\n",
    "<h3 id=\"countries\"><code>countries</code></h3>\n",
    "<table>\n",
    "<thead>\n",
    "<tr>\n",
    "<th style=\"text-align:left;\">column</th>\n",
    "<th>type</th>\n",
    "<th>meaning</th>\n",
    "</tr>\n",
    "</thead>\n",
    "<tbody>\n",
    "<tr>\n",
    "<td style=\"text-align:left;\"><code>country_code</code></td>\n",
    "<td>varchar</td>\n",
    "<td>ISO 3166-1 3-letter country code.</td>\n",
    "</tr>\n",
    "<tr>\n",
    "<td style=\"text-align:left;\"><code>country</code></td>\n",
    "<td>varchar</td>\n",
    "<td>Name of the country.</td>\n",
    "</tr>\n",
    "<tr>\n",
    "<td style=\"text-align:left;\"><code>continent</code></td>\n",
    "<td>varchar</td>\n",
    "<td>Name of the continent that the country exists in.</td>\n",
    "</tr>\n",
    "</tbody>\n",
    "</table>\n",
    "<h3 id=\"categories\"><code>categories</code></h3>\n",
    "<table>\n",
    "<thead>\n",
    "<tr>\n",
    "<th style=\"text-align:left;\">column</th>\n",
    "<th>type</th>\n",
    "<th>meaning</th>\n",
    "</tr>\n",
    "</thead>\n",
    "<tbody>\n",
    "<tr>\n",
    "<td style=\"text-align:left;\"><code>category_code</code></td>\n",
    "<td>varchar</td>\n",
    "<td>Code for the category of the business.</td>\n",
    "</tr>\n",
    "<tr>\n",
    "<td style=\"text-align:left;\"><code>category</code></td>\n",
    "<td>varchar</td>\n",
    "<td>Description of the business category.</td>\n",
    "</tr>\n",
    "</tbody>\n",
    "</table>\n",
    "<p>Now let's learn about some of the world's oldest businesses still in operation!</p>"
   ]
  },
  {
   "cell_type": "code",
   "execution_count": 20,
   "metadata": {
    "dc": {
     "key": "4"
    },
    "tags": [
     "sample_code"
    ]
   },
   "outputs": [
    {
     "data": {
      "text/html": [
       "<div>\n",
       "<style scoped>\n",
       "    .dataframe tbody tr th:only-of-type {\n",
       "        vertical-align: middle;\n",
       "    }\n",
       "\n",
       "    .dataframe tbody tr th {\n",
       "        vertical-align: top;\n",
       "    }\n",
       "\n",
       "    .dataframe thead th {\n",
       "        text-align: right;\n",
       "    }\n",
       "</style>\n",
       "<table border=\"1\" class=\"dataframe\">\n",
       "  <thead>\n",
       "    <tr style=\"text-align: right;\">\n",
       "      <th></th>\n",
       "      <th>business</th>\n",
       "      <th>year_founded</th>\n",
       "      <th>category_code</th>\n",
       "      <th>country_code</th>\n",
       "    </tr>\n",
       "  </thead>\n",
       "  <tbody>\n",
       "    <tr>\n",
       "      <th>64</th>\n",
       "      <td>Kongō Gumi</td>\n",
       "      <td>578</td>\n",
       "      <td>CAT6</td>\n",
       "      <td>JPN</td>\n",
       "    </tr>\n",
       "    <tr>\n",
       "      <th>94</th>\n",
       "      <td>St. Peter Stifts Kulinarium</td>\n",
       "      <td>803</td>\n",
       "      <td>CAT4</td>\n",
       "      <td>AUT</td>\n",
       "    </tr>\n",
       "    <tr>\n",
       "      <th>107</th>\n",
       "      <td>Staffelter Hof Winery</td>\n",
       "      <td>862</td>\n",
       "      <td>CAT9</td>\n",
       "      <td>DEU</td>\n",
       "    </tr>\n",
       "    <tr>\n",
       "      <th>106</th>\n",
       "      <td>Monnaie de Paris</td>\n",
       "      <td>864</td>\n",
       "      <td>CAT12</td>\n",
       "      <td>FRA</td>\n",
       "    </tr>\n",
       "    <tr>\n",
       "      <th>103</th>\n",
       "      <td>The Royal Mint</td>\n",
       "      <td>886</td>\n",
       "      <td>CAT12</td>\n",
       "      <td>GBR</td>\n",
       "    </tr>\n",
       "  </tbody>\n",
       "</table>\n",
       "</div>"
      ],
      "text/plain": [
       "                        business  year_founded category_code country_code\n",
       "64                    Kongō Gumi           578          CAT6          JPN\n",
       "94   St. Peter Stifts Kulinarium           803          CAT4          AUT\n",
       "107        Staffelter Hof Winery           862          CAT9          DEU\n",
       "106            Monnaie de Paris            864         CAT12          FRA\n",
       "103               The Royal Mint           886         CAT12          GBR"
      ]
     },
     "execution_count": 20,
     "metadata": {},
     "output_type": "execute_result"
    }
   ],
   "source": [
    "# Import the pandas library under its usual alias \n",
    "import pandas as pd\n",
    "\n",
    "# Load the business.csv file as a DataFrame called businesses\n",
    "businesses = pd.read_csv('datasets/businesses.csv')\n",
    "\n",
    "# Sort businesses from youngest businesses to oldest\n",
    "sorted_businesses = businesses.sort_values('year_founded', ascending=True)\n",
    "\n",
    "# Display the first few lines of sorted_businesses\n",
    "sorted_businesses.head()"
   ]
  },
  {
   "cell_type": "markdown",
   "metadata": {
    "dc": {
     "key": "11"
    },
    "deletable": false,
    "editable": false,
    "run_control": {
     "frozen": true
    },
    "tags": [
     "context"
    ]
   },
   "source": [
    "## 2. The oldest businesses in North America\n",
    "<p>So far we've learned that Kongō Gumi is the world's oldest continuously operating business, beating out the second oldest business by well over 100 years! It's a little hard to read the country codes, though. Wouldn't it be nice if we had a list of country names to go along with the country codes?</p>\n",
    "<p>Enter <code>countries.csv</code>, which is also located in the <code>datasets</code> folder. Having useful information in different files is a common problem: for data storage, it's better to keep different types of data separate, but for analysis, we want all the data in one place. To solve this, we'll have to join the two tables together. </p>\n",
    "<h3 id=\"countries\"><code>countries</code></h3>\n",
    "<table>\n",
    "<thead>\n",
    "<tr>\n",
    "<th style=\"text-align:left;\">column</th>\n",
    "<th>type</th>\n",
    "<th>meaning</th>\n",
    "</tr>\n",
    "</thead>\n",
    "<tbody>\n",
    "<tr>\n",
    "<td style=\"text-align:left;\"><code>country_code</code></td>\n",
    "<td>varchar</td>\n",
    "<td>ISO 3166-1 3-letter country code.</td>\n",
    "</tr>\n",
    "<tr>\n",
    "<td style=\"text-align:left;\"><code>country</code></td>\n",
    "<td>varchar</td>\n",
    "<td>Name of the country.</td>\n",
    "</tr>\n",
    "<tr>\n",
    "<td style=\"text-align:left;\"><code>continent</code></td>\n",
    "<td>varchar</td>\n",
    "<td>Name of the continent that the country exists in.</td>\n",
    "</tr>\n",
    "</tbody>\n",
    "</table>\n",
    "<p>Since <code>countries.csv</code> contains a <code>continent</code> column, merging the datasets will also allow us to look at the oldest business on each continent! </p>"
   ]
  },
  {
   "cell_type": "code",
   "execution_count": 22,
   "metadata": {
    "dc": {
     "key": "11"
    },
    "tags": [
     "sample_code"
    ]
   },
   "outputs": [
    {
     "name": "stdout",
     "output_type": "stream",
     "text": [
      "                      business  year_founded category_code country_code  \\\n",
      "0                   Kongō Gumi           578          CAT6          JPN   \n",
      "1  St. Peter Stifts Kulinarium           803          CAT4          AUT   \n",
      "2        Staffelter Hof Winery           862          CAT9          DEU   \n",
      "3            Monnaie de Paris            864         CAT12          FRA   \n",
      "4               The Royal Mint           886         CAT12          GBR   \n",
      "\n",
      "          country continent  \n",
      "0           Japan      Asia  \n",
      "1         Austria    Europe  \n",
      "2         Germany    Europe  \n",
      "3          France    Europe  \n",
      "4  United Kingdom    Europe   \n",
      " ['Asia' 'Europe' 'North America' 'South America' 'Africa' 'Oceania'] \n",
      "\n",
      "                       business  year_founded category_code country_code  \\\n",
      "22  La Casa de Moneda de México          1534         CAT12          MEX   \n",
      "28           Shirley Plantation          1638          CAT1          USA   \n",
      "33         Hudson's Bay Company          1670         CAT17          CAN   \n",
      "35                Mount Gay Rum          1703          CAT9          BRB   \n",
      "40                    Rose Hall          1770         CAT19          JAM   \n",
      "\n",
      "          country      continent  \n",
      "22         Mexico  North America  \n",
      "28  United States  North America  \n",
      "33         Canada  North America  \n",
      "35       Barbados  North America  \n",
      "40        Jamaica  North America   \n",
      "\n"
     ]
    }
   ],
   "source": [
    "# Load countries.csv to a DataFrame\n",
    "countries = pd.read_csv('datasets/countries.csv')\n",
    "\n",
    "# Merge sorted_businesses with countries\n",
    "businesses_countries = sorted_businesses.merge(countries, on='country_code')\n",
    "print(businesses_countries.head(), '\\n', businesses_countries['continent'].unique(), '\\n')\n",
    "\n",
    "# Filter businesses_countries to include countries in North America only\n",
    "north_america = businesses_countries[businesses_countries['continent']=='North America']\n",
    "\n",
    "# alternative way\n",
    "# north_america_2 = businesses_countries[businesses_countries['continent'].isin(['North America'])]\n",
    "\n",
    "print(north_america.head(), '\\n')"
   ]
  },
  {
   "cell_type": "markdown",
   "metadata": {
    "dc": {
     "key": "18"
    },
    "deletable": false,
    "editable": false,
    "run_control": {
     "frozen": true
    },
    "tags": [
     "context"
    ]
   },
   "source": [
    "## 3. The oldest business on each continent\n",
    "<p>Now we can see that the oldest company in North America is La Casa de Moneda de México, founded in 1534. Why stop there, though, when we could easily find out the oldest business on every continent? </p>"
   ]
  },
  {
   "cell_type": "code",
   "execution_count": 24,
   "metadata": {
    "dc": {
     "key": "18"
    },
    "tags": [
     "sample_code"
    ]
   },
   "outputs": [
    {
     "data": {
      "text/html": [
       "<div>\n",
       "<style scoped>\n",
       "    .dataframe tbody tr th:only-of-type {\n",
       "        vertical-align: middle;\n",
       "    }\n",
       "\n",
       "    .dataframe tbody tr th {\n",
       "        vertical-align: top;\n",
       "    }\n",
       "\n",
       "    .dataframe thead th {\n",
       "        text-align: right;\n",
       "    }\n",
       "</style>\n",
       "<table border=\"1\" class=\"dataframe\">\n",
       "  <thead>\n",
       "    <tr style=\"text-align: right;\">\n",
       "      <th></th>\n",
       "      <th>continent</th>\n",
       "      <th>country</th>\n",
       "      <th>business</th>\n",
       "      <th>year_founded</th>\n",
       "    </tr>\n",
       "  </thead>\n",
       "  <tbody>\n",
       "    <tr>\n",
       "      <th>0</th>\n",
       "      <td>Africa</td>\n",
       "      <td>Mauritius</td>\n",
       "      <td>Mauritius Post</td>\n",
       "      <td>1772</td>\n",
       "    </tr>\n",
       "    <tr>\n",
       "      <th>1</th>\n",
       "      <td>Asia</td>\n",
       "      <td>Japan</td>\n",
       "      <td>Kongō Gumi</td>\n",
       "      <td>578</td>\n",
       "    </tr>\n",
       "    <tr>\n",
       "      <th>2</th>\n",
       "      <td>Europe</td>\n",
       "      <td>Austria</td>\n",
       "      <td>St. Peter Stifts Kulinarium</td>\n",
       "      <td>803</td>\n",
       "    </tr>\n",
       "    <tr>\n",
       "      <th>3</th>\n",
       "      <td>North America</td>\n",
       "      <td>Mexico</td>\n",
       "      <td>La Casa de Moneda de México</td>\n",
       "      <td>1534</td>\n",
       "    </tr>\n",
       "    <tr>\n",
       "      <th>4</th>\n",
       "      <td>Oceania</td>\n",
       "      <td>Australia</td>\n",
       "      <td>Australia Post</td>\n",
       "      <td>1809</td>\n",
       "    </tr>\n",
       "    <tr>\n",
       "      <th>5</th>\n",
       "      <td>South America</td>\n",
       "      <td>Peru</td>\n",
       "      <td>Casa Nacional de Moneda</td>\n",
       "      <td>1565</td>\n",
       "    </tr>\n",
       "  </tbody>\n",
       "</table>\n",
       "</div>"
      ],
      "text/plain": [
       "       continent    country                     business  year_founded\n",
       "0         Africa  Mauritius               Mauritius Post          1772\n",
       "1           Asia      Japan                   Kongō Gumi           578\n",
       "2         Europe    Austria  St. Peter Stifts Kulinarium           803\n",
       "3  North America     Mexico  La Casa de Moneda de México          1534\n",
       "4        Oceania  Australia               Australia Post          1809\n",
       "5  South America       Peru      Casa Nacional de Moneda          1565"
      ]
     },
     "execution_count": 24,
     "metadata": {},
     "output_type": "execute_result"
    }
   ],
   "source": [
    "# Create continent, which lists only the continent and oldest year_founded\n",
    "continent = businesses_countries.groupby('continent').agg({'year_founded':'min'})\n",
    "continent.head()\n",
    "\n",
    "# Merge continent with businesses_countries\n",
    "merged_continent = continent.merge(businesses_countries, on='year_founded')\n",
    "\n",
    "# Subset continent so that only the four columns of interest are included\n",
    "subset_merged_continent = merged_continent[['continent', 'country', 'business', 'year_founded']]\n",
    "subset_merged_continent"
   ]
  },
  {
   "cell_type": "code",
   "execution_count": 26,
   "metadata": {
    "dc": {
     "key": "25"
    }
   },
   "outputs": [
    {
     "name": "stdout",
     "output_type": "stream",
     "text": [
      "(163, 4) \n",
      " (195, 3)\n"
     ]
    }
   ],
   "source": [
    "print(businesses.shape, '\\n', countries.shape)"
   ]
  },
  {
   "cell_type": "markdown",
   "metadata": {
    "dc": {
     "key": "25"
    },
    "deletable": false,
    "editable": false,
    "run_control": {
     "frozen": true
    },
    "tags": [
     "context"
    ]
   },
   "source": [
    "## 4. Unknown oldest businesses\n",
    "<p>BusinessFinancing.co.uk wasn't able to determine the oldest business for some countries, and those countries are simply left off of <code>businesses.csv</code> and, by extension, <code>businesses</code>. However, the <code>countries</code> that we created <em>does</em> include all countries in the world, regardless of whether the oldest business is known. </p>\n",
    "<p>We can compare the two datasets in one DataFrame to find out which countries don't have a known oldest business! </p>"
   ]
  },
  {
   "cell_type": "code",
   "execution_count": 27,
   "metadata": {
    "dc": {
     "key": "25"
    },
    "tags": [
     "sample_code"
    ]
   },
   "outputs": [
    {
     "name": "stdout",
     "output_type": "stream",
     "text": [
      "                         business  year_founded category_code country_code  \\\n",
      "0                  Hamoud Boualem        1878.0         CAT11          DZA   \n",
      "1  Communauté Électrique du Bénin        1968.0         CAT10          BEN   \n",
      "2        Botswana Meat Commission        1965.0          CAT1          BWA   \n",
      "3                     Air Burkina        1967.0          CAT2          BFA   \n",
      "4                         Brarudi        1955.0          CAT9          BDI   \n",
      "\n",
      "        country continent _merge  \n",
      "0       Algeria    Africa   both  \n",
      "1         Benin    Africa   both  \n",
      "2      Botswana    Africa   both  \n",
      "3  Burkina Faso    Africa   both  \n",
      "4       Burundi    Africa   both   \n",
      "\n",
      "    business  year_founded category_code country_code              country  \\\n",
      "163      NaN           NaN           NaN          AGO               Angola   \n",
      "164      NaN           NaN           NaN          ATG  Antigua and Barbuda   \n",
      "165      NaN           NaN           NaN          BHS              Bahamas   \n",
      "166      NaN           NaN           NaN          DOM   Dominican Republic   \n",
      "167      NaN           NaN           NaN          ECU              Ecuador   \n",
      "\n",
      "         continent      _merge  \n",
      "163         Africa  right_only  \n",
      "164  North America  right_only  \n",
      "165  North America  right_only  \n",
      "166  North America  right_only  \n",
      "167  South America  right_only   \n",
      "\n"
     ]
    },
    {
     "data": {
      "text/plain": [
       "163                              Angola\n",
       "164                 Antigua and Barbuda\n",
       "165                             Bahamas\n",
       "166                  Dominican Republic\n",
       "167                             Ecuador\n",
       "168                                Fiji\n",
       "169     Micronesia, Federated States of\n",
       "170                               Ghana\n",
       "171                              Gambia\n",
       "172                             Grenada\n",
       "173           Iran, Islamic Republic of\n",
       "174                          Kyrgyzstan\n",
       "175                            Kiribati\n",
       "176               Saint Kitts and Nevis\n",
       "177                              Monaco\n",
       "178                Moldova, Republic of\n",
       "179                            Maldives\n",
       "180                    Marshall Islands\n",
       "181                               Nauru\n",
       "182                               Palau\n",
       "183                    Papua New Guinea\n",
       "184                            Paraguay\n",
       "185                 Palestine, State of\n",
       "186                     Solomon Islands\n",
       "187                            Suriname\n",
       "188                          Tajikistan\n",
       "189                        Turkmenistan\n",
       "190                         Timor-Leste\n",
       "191                               Tonga\n",
       "192                              Tuvalu\n",
       "193    Saint Vincent and the Grenadines\n",
       "194                               Samoa\n",
       "Name: country, dtype: object"
      ]
     },
     "execution_count": 27,
     "metadata": {},
     "output_type": "execute_result"
    }
   ],
   "source": [
    "# Use .merge() to create a DataFrame, all_countries\n",
    "all_countries = businesses.merge(countries, on='country_code', how='right', indicator=True)\n",
    "print(all_countries.head(), '\\n')\n",
    "\n",
    "# Filter to include only countries without oldest businesses\n",
    "missing_countries = all_countries[all_countries['_merge'] != 'both']\n",
    "print(missing_countries.head(), '\\n')\n",
    "\n",
    "# Create a series of the country names with missing oldest business data\n",
    "missing_countries_series = missing_countries['country']\n",
    "\n",
    "# Display the series\n",
    "missing_countries_series"
   ]
  },
  {
   "cell_type": "markdown",
   "metadata": {
    "dc": {
     "key": "32"
    },
    "deletable": false,
    "editable": false,
    "run_control": {
     "frozen": true
    },
    "tags": [
     "context"
    ]
   },
   "source": [
    "## 5. Adding new oldest business data\n",
    "<p>It looks like we've got some holes in our dataset! Fortunately, we've taken it upon ourselves to improve upon BusinessFinancing.co.uk's work and find oldest businesses in a few of the missing countries. We've stored the newfound oldest businesses in <code>new_businesses</code>, located at <code>\"datasets/new_businesses.csv\"</code>. It has the exact same structure as our <code>businesses</code> dataset. </p>\n",
    "<h3 id=\"new_businesses\"><code>new_businesses</code></h3>\n",
    "<table>\n",
    "<thead>\n",
    "<tr>\n",
    "<th style=\"text-align:left;\">column</th>\n",
    "<th>type</th>\n",
    "<th>meaning</th>\n",
    "</tr>\n",
    "</thead>\n",
    "<tbody>\n",
    "<tr>\n",
    "<td style=\"text-align:left;\"><code>business</code></td>\n",
    "<td>varchar</td>\n",
    "<td>Name of the business.</td>\n",
    "</tr>\n",
    "<tr>\n",
    "<td style=\"text-align:left;\"><code>year_founded</code></td>\n",
    "<td>int</td>\n",
    "<td>Year the business was founded.</td>\n",
    "</tr>\n",
    "<tr>\n",
    "<td style=\"text-align:left;\"><code>category_code</code></td>\n",
    "<td>varchar</td>\n",
    "<td>Code for the category of the business.</td>\n",
    "</tr>\n",
    "<tr>\n",
    "<td style=\"text-align:left;\"><code>country_code</code></td>\n",
    "<td>char</td>\n",
    "<td>ISO 3166-1 3-letter country code.</td>\n",
    "</tr>\n",
    "</tbody>\n",
    "</table>\n",
    "<p>All we have to do is combine the two so that we've got one more complete list of businesses!</p>"
   ]
  },
  {
   "cell_type": "code",
   "execution_count": 29,
   "metadata": {
    "dc": {
     "key": "32"
    },
    "tags": [
     "sample_code"
    ]
   },
   "outputs": [
    {
     "name": "stdout",
     "output_type": "stream",
     "text": [
      "                    business  year_founded category_code country_code\n",
      "0                 Fiji Times          1869         CAT13          FJI\n",
      "1  J. Armando Bermúdez & Co.          1852          CAT9          DOM \n",
      "\n",
      "                         business  year_founded category_code country_code\n",
      "0                      Fiji Times          1869         CAT13          FJI\n",
      "1       J. Armando Bermúdez & Co.          1852          CAT9          DOM\n",
      "0                  Hamoud Boualem          1878         CAT11          DZA\n",
      "1  Communauté Électrique du Bénin          1968         CAT10          BEN\n",
      "2        Botswana Meat Commission          1965          CAT1          BWA \n",
      " (165, 4) \n",
      "\n"
     ]
    },
    {
     "data": {
      "text/html": [
       "<div>\n",
       "<style scoped>\n",
       "    .dataframe tbody tr th:only-of-type {\n",
       "        vertical-align: middle;\n",
       "    }\n",
       "\n",
       "    .dataframe tbody tr th {\n",
       "        vertical-align: top;\n",
       "    }\n",
       "\n",
       "    .dataframe thead th {\n",
       "        text-align: right;\n",
       "    }\n",
       "</style>\n",
       "<table border=\"1\" class=\"dataframe\">\n",
       "  <thead>\n",
       "    <tr style=\"text-align: right;\">\n",
       "      <th></th>\n",
       "      <th>count_missing</th>\n",
       "    </tr>\n",
       "    <tr>\n",
       "      <th>continent</th>\n",
       "      <th></th>\n",
       "    </tr>\n",
       "  </thead>\n",
       "  <tbody>\n",
       "    <tr>\n",
       "      <th>Africa</th>\n",
       "      <td>3</td>\n",
       "    </tr>\n",
       "    <tr>\n",
       "      <th>Asia</th>\n",
       "      <td>7</td>\n",
       "    </tr>\n",
       "    <tr>\n",
       "      <th>Europe</th>\n",
       "      <td>2</td>\n",
       "    </tr>\n",
       "    <tr>\n",
       "      <th>North America</th>\n",
       "      <td>5</td>\n",
       "    </tr>\n",
       "    <tr>\n",
       "      <th>Oceania</th>\n",
       "      <td>10</td>\n",
       "    </tr>\n",
       "    <tr>\n",
       "      <th>South America</th>\n",
       "      <td>3</td>\n",
       "    </tr>\n",
       "  </tbody>\n",
       "</table>\n",
       "</div>"
      ],
      "text/plain": [
       "               count_missing\n",
       "continent                   \n",
       "Africa                     3\n",
       "Asia                       7\n",
       "Europe                     2\n",
       "North America              5\n",
       "Oceania                   10\n",
       "South America              3"
      ]
     },
     "execution_count": 29,
     "metadata": {},
     "output_type": "execute_result"
    }
   ],
   "source": [
    "# Import new_businesses.csv\n",
    "new_businesses = pd.read_csv('datasets/new_businesses.csv')\n",
    "print(new_businesses, '\\n')\n",
    "\n",
    "# Add the data in new_businesses to the existing businesses\n",
    "all_businesses = pd.concat([new_businesses, businesses])\n",
    "print(all_businesses.head(), '\\n', all_businesses.shape, '\\n')\n",
    "\n",
    "# Merge and filter to find countries with missing business data\n",
    "# Perform a new merge between the businesses and the countries data. Use additional parameters this time to perform an outer merge and create an indicator column to better see the missing values. An outer merge combines two DataFrames based on a key column and includes all rows from both DataFrames\n",
    "# The problem was that the indicator parameter in the merge function was set to False. This means that the _merge column, which indicates the source of each row, was not created. By setting indicator=True, the _merge column is included in the merged DataFrame, allowing us to filter for missing business data correctly.\n",
    "new_all_countries = all_businesses.merge(countries, on='country_code', how='right', indicator=True)\n",
    "new_missing_countries = new_all_countries[new_all_countries['_merge'] != 'both']\n",
    "\n",
    "# Group by continent and create a \"count_missing\" column\n",
    "count_missing = new_missing_countries.groupby('continent').agg({'country':'count'})\n",
    "count_missing.head()\n",
    "count_missing.columns = ['count_missing']\n",
    "count_missing"
   ]
  },
  {
   "cell_type": "markdown",
   "metadata": {
    "dc": {
     "key": "39"
    },
    "deletable": false,
    "editable": false,
    "run_control": {
     "frozen": true
    },
    "tags": [
     "context"
    ]
   },
   "source": [
    "## 6. The oldest industries\n",
    "<p>Remember our oldest business in the world, Kongō Gumi? </p>\n",
    "<table>\n",
    "<thead>\n",
    "<tr>\n",
    "<th style=\"text-align:right;\"></th>\n",
    "<th style=\"text-align:left;\">business</th>\n",
    "<th style=\"text-align:right;\">year_founded</th>\n",
    "<th style=\"text-align:left;\">category_code</th>\n",
    "<th style=\"text-align:left;\">country_code</th>\n",
    "</tr>\n",
    "</thead>\n",
    "<tbody>\n",
    "<tr>\n",
    "<td style=\"text-align:right;\">64</td>\n",
    "<td style=\"text-align:left;\">Kongō Gumi</td>\n",
    "<td style=\"text-align:right;\">578</td>\n",
    "<td style=\"text-align:left;\">CAT6</td>\n",
    "<td style=\"text-align:left;\">JPN</td>\n",
    "</tr>\n",
    "</tbody>\n",
    "</table>\n",
    "<p>We know Kongō Gumi was founded in the year 578 in Japan, but it's a little hard to decipher which industry it's in. Information about what the <code>category_code</code> column refers to is in <code>\"datasets/categories.csv\"</code>: </p>\n",
    "<h3 id=\"categories\"><code>categories</code></h3>\n",
    "<table>\n",
    "<thead>\n",
    "<tr>\n",
    "<th style=\"text-align:left;\">column</th>\n",
    "<th>type</th>\n",
    "<th>meaning</th>\n",
    "</tr>\n",
    "</thead>\n",
    "<tbody>\n",
    "<tr>\n",
    "<td style=\"text-align:left;\"><code>category_code</code></td>\n",
    "<td>varchar</td>\n",
    "<td>Code for the category of the business.</td>\n",
    "</tr>\n",
    "<tr>\n",
    "<td style=\"text-align:left;\"><code>category</code></td>\n",
    "<td>varchar</td>\n",
    "<td>Description of the business category.</td>\n",
    "</tr>\n",
    "</tbody>\n",
    "</table>\n",
    "<p>Let's use <code>categories.csv</code> to understand how many oldest businesses are in each category of industry.</p>"
   ]
  },
  {
   "cell_type": "code",
   "execution_count": 31,
   "metadata": {
    "dc": {
     "key": "39"
    },
    "tags": [
     "sample_code"
    ]
   },
   "outputs": [
    {
     "name": "stdout",
     "output_type": "stream",
     "text": [
      "(19, 2) \n",
      "\n",
      "                        business  year_founded category_code country_code  \\\n",
      "0                 Hamoud Boualem          1878         CAT11          DZA   \n",
      "1         M. M. Ispahani Limited          1820         CAT11          BGD   \n",
      "2           George Steuart Group          1835         CAT11          LKA   \n",
      "3  Corporación Multi Inversiones          1920         CAT11          GTM   \n",
      "4                      Banks DIH          1840         CAT11          GUY   \n",
      "\n",
      "           category  \n",
      "0  Food & Beverages  \n",
      "1  Food & Beverages  \n",
      "2  Food & Beverages  \n",
      "3  Food & Beverages  \n",
      "4  Food & Beverages   \n",
      "\n"
     ]
    },
    {
     "data": {
      "text/html": [
       "<div>\n",
       "<style scoped>\n",
       "    .dataframe tbody tr th:only-of-type {\n",
       "        vertical-align: middle;\n",
       "    }\n",
       "\n",
       "    .dataframe tbody tr th {\n",
       "        vertical-align: top;\n",
       "    }\n",
       "\n",
       "    .dataframe thead th {\n",
       "        text-align: right;\n",
       "    }\n",
       "</style>\n",
       "<table border=\"1\" class=\"dataframe\">\n",
       "  <thead>\n",
       "    <tr style=\"text-align: right;\">\n",
       "      <th></th>\n",
       "      <th>count</th>\n",
       "    </tr>\n",
       "    <tr>\n",
       "      <th>category</th>\n",
       "      <th></th>\n",
       "    </tr>\n",
       "  </thead>\n",
       "  <tbody>\n",
       "    <tr>\n",
       "      <th>Agriculture</th>\n",
       "      <td>6</td>\n",
       "    </tr>\n",
       "    <tr>\n",
       "      <th>Aviation &amp; Transport</th>\n",
       "      <td>19</td>\n",
       "    </tr>\n",
       "    <tr>\n",
       "      <th>Banking &amp; Finance</th>\n",
       "      <td>37</td>\n",
       "    </tr>\n",
       "    <tr>\n",
       "      <th>Cafés, Restaurants &amp; Bars</th>\n",
       "      <td>6</td>\n",
       "    </tr>\n",
       "    <tr>\n",
       "      <th>Conglomerate</th>\n",
       "      <td>3</td>\n",
       "    </tr>\n",
       "  </tbody>\n",
       "</table>\n",
       "</div>"
      ],
      "text/plain": [
       "                           count\n",
       "category                        \n",
       "Agriculture                    6\n",
       "Aviation & Transport          19\n",
       "Banking & Finance             37\n",
       "Cafés, Restaurants & Bars      6\n",
       "Conglomerate                   3"
      ]
     },
     "metadata": {},
     "output_type": "display_data"
    }
   ],
   "source": [
    "# Import categories.csv and merge to businesses\n",
    "categories = pd.read_csv(\"datasets/categories.csv\")\n",
    "print(categories.shape, '\\n')\n",
    "businesses_categories = businesses.merge(categories, on='category_code')\n",
    "print(businesses_categories.head(), '\\n')\n",
    "\n",
    "# Create a DataFrame which lists the number of oldest businesses in each category\n",
    "count_business_cats = businesses_categories.groupby('category').agg({'business':'count'})\n",
    "\n",
    "# Rename column and display the first five rows of the DataFrame\n",
    "count_business_cats.columns = ['count']\n",
    "display(count_business_cats.head())"
   ]
  },
  {
   "cell_type": "code",
   "execution_count": 32,
   "metadata": {
    "dc": {
     "key": "39"
    }
   },
   "outputs": [
    {
     "data": {
      "text/html": [
       "<div>\n",
       "<style scoped>\n",
       "    .dataframe tbody tr th:only-of-type {\n",
       "        vertical-align: middle;\n",
       "    }\n",
       "\n",
       "    .dataframe tbody tr th {\n",
       "        vertical-align: top;\n",
       "    }\n",
       "\n",
       "    .dataframe thead th {\n",
       "        text-align: right;\n",
       "    }\n",
       "</style>\n",
       "<table border=\"1\" class=\"dataframe\">\n",
       "  <thead>\n",
       "    <tr style=\"text-align: right;\">\n",
       "      <th></th>\n",
       "      <th>total_years_in_business</th>\n",
       "    </tr>\n",
       "    <tr>\n",
       "      <th>category</th>\n",
       "      <th></th>\n",
       "    </tr>\n",
       "  </thead>\n",
       "  <tbody>\n",
       "    <tr>\n",
       "      <th>Agriculture</th>\n",
       "      <td>10669</td>\n",
       "    </tr>\n",
       "    <tr>\n",
       "      <th>Aviation &amp; Transport</th>\n",
       "      <td>36598</td>\n",
       "    </tr>\n",
       "    <tr>\n",
       "      <th>Banking &amp; Finance</th>\n",
       "      <td>70302</td>\n",
       "    </tr>\n",
       "    <tr>\n",
       "      <th>Cafés, Restaurants &amp; Bars</th>\n",
       "      <td>8532</td>\n",
       "    </tr>\n",
       "    <tr>\n",
       "      <th>Conglomerate</th>\n",
       "      <td>5671</td>\n",
       "    </tr>\n",
       "  </tbody>\n",
       "</table>\n",
       "</div>"
      ],
      "text/plain": [
       "                           total_years_in_business\n",
       "category                                          \n",
       "Agriculture                                  10669\n",
       "Aviation & Transport                         36598\n",
       "Banking & Finance                            70302\n",
       "Cafés, Restaurants & Bars                     8532\n",
       "Conglomerate                                  5671"
      ]
     },
     "metadata": {},
     "output_type": "display_data"
    }
   ],
   "source": [
    "# Create a DataFrame which lists the cumulative years that businesses from each category have been operating\n",
    "years_business_cats = businesses_categories.groupby(\"category\").agg({\"year_founded\":\"sum\"})\n",
    "\n",
    "# Rename columns and display the first five rows of both DataFrames\n",
    "years_business_cats.columns = [\"total_years_in_business\"]\n",
    "display(years_business_cats.head())"
   ]
  },
  {
   "cell_type": "markdown",
   "metadata": {
    "dc": {
     "key": "46"
    },
    "deletable": false,
    "editable": false,
    "run_control": {
     "frozen": true
    },
    "tags": [
     "context"
    ]
   },
   "source": [
    "## 7. Restaurant representation\n",
    "<p>No matter how we measure it, looks like Banking and Finance is an excellent industry to be in if longevity is our goal! Let's zoom in on another industry: cafés, restaurants, and bars. Which restaurants in our dataset have been around since before the year 1800?</p>"
   ]
  },
  {
   "cell_type": "code",
   "execution_count": 34,
   "metadata": {
    "dc": {
     "key": "46"
    },
    "tags": [
     "sample_code"
    ]
   },
   "outputs": [
    {
     "data": {
      "text/html": [
       "<div>\n",
       "<style scoped>\n",
       "    .dataframe tbody tr th:only-of-type {\n",
       "        vertical-align: middle;\n",
       "    }\n",
       "\n",
       "    .dataframe tbody tr th {\n",
       "        vertical-align: top;\n",
       "    }\n",
       "\n",
       "    .dataframe thead th {\n",
       "        text-align: right;\n",
       "    }\n",
       "</style>\n",
       "<table border=\"1\" class=\"dataframe\">\n",
       "  <thead>\n",
       "    <tr style=\"text-align: right;\">\n",
       "      <th></th>\n",
       "      <th>business</th>\n",
       "      <th>year_founded</th>\n",
       "      <th>category_code</th>\n",
       "      <th>country_code</th>\n",
       "      <th>category</th>\n",
       "    </tr>\n",
       "  </thead>\n",
       "  <tbody>\n",
       "    <tr>\n",
       "      <th>142</th>\n",
       "      <td>St. Peter Stifts Kulinarium</td>\n",
       "      <td>803</td>\n",
       "      <td>CAT4</td>\n",
       "      <td>AUT</td>\n",
       "      <td>Cafés, Restaurants &amp; Bars</td>\n",
       "    </tr>\n",
       "    <tr>\n",
       "      <th>143</th>\n",
       "      <td>Sean's Bar</td>\n",
       "      <td>900</td>\n",
       "      <td>CAT4</td>\n",
       "      <td>IRL</td>\n",
       "      <td>Cafés, Restaurants &amp; Bars</td>\n",
       "    </tr>\n",
       "    <tr>\n",
       "      <th>139</th>\n",
       "      <td>Ma Yu Ching's Bucket Chicken House</td>\n",
       "      <td>1153</td>\n",
       "      <td>CAT4</td>\n",
       "      <td>CHN</td>\n",
       "      <td>Cafés, Restaurants &amp; Bars</td>\n",
       "    </tr>\n",
       "  </tbody>\n",
       "</table>\n",
       "</div>"
      ],
      "text/plain": [
       "                               business  year_founded category_code  \\\n",
       "142         St. Peter Stifts Kulinarium           803          CAT4   \n",
       "143                          Sean's Bar           900          CAT4   \n",
       "139  Ma Yu Ching's Bucket Chicken House          1153          CAT4   \n",
       "\n",
       "    country_code                   category  \n",
       "142          AUT  Cafés, Restaurants & Bars  \n",
       "143          IRL  Cafés, Restaurants & Bars  \n",
       "139          CHN  Cafés, Restaurants & Bars  "
      ]
     },
     "execution_count": 34,
     "metadata": {},
     "output_type": "execute_result"
    }
   ],
   "source": [
    "# Filter using .query() for CAT4 businesses founded before 1800; sort results\n",
    "old_restaurants = businesses_categories.query('category == \"Cafés, Restaurants & Bars\" and year_founded < 1800')\n",
    "\n",
    "# Sort the DataFrame\n",
    "old_restaurants = old_restaurants.sort_values('year_founded', ascending=True)\n",
    "old_restaurants"
   ]
  },
  {
   "cell_type": "markdown",
   "metadata": {
    "dc": {
     "key": "54"
    },
    "deletable": false,
    "editable": false,
    "run_control": {
     "frozen": true
    },
    "tags": [
     "context"
    ]
   },
   "source": [
    "## 8. Categories and continents\n",
    "<p>St. Peter Stifts Kulinarium is old enough that the restaurant is believed to have served Mozart - and it would have been over 900 years old even when he was a patron! Let's finish by looking at the oldest business in each category of commerce for each continent. </p>"
   ]
  },
  {
   "cell_type": "code",
   "execution_count": 36,
   "metadata": {
    "dc": {
     "key": "54"
    },
    "tags": [
     "sample_code"
    ]
   },
   "outputs": [
    {
     "name": "stdout",
     "output_type": "stream",
     "text": [
      "                        business  year_founded category_code country_code  \\\n",
      "0                 Hamoud Boualem          1878         CAT11          DZA   \n",
      "1         M. M. Ispahani Limited          1820         CAT11          BGD   \n",
      "2           George Steuart Group          1835         CAT11          LKA   \n",
      "3  Corporación Multi Inversiones          1920         CAT11          GTM   \n",
      "4                      Banks DIH          1840         CAT11          GUY   \n",
      "\n",
      "           category     country      continent  \n",
      "0  Food & Beverages     Algeria         Africa  \n",
      "1  Food & Beverages  Bangladesh           Asia  \n",
      "2  Food & Beverages   Sri Lanka           Asia  \n",
      "3  Food & Beverages   Guatemala  North America  \n",
      "4  Food & Beverages      Guyana  South America   \n",
      "\n",
      "                        business  year_founded category_code country_code  \\\n",
      "148                   Kongō Gumi           578          CAT6          JPN   \n",
      "142  St. Peter Stifts Kulinarium           803          CAT4          AUT   \n",
      "44         Staffelter Hof Winery           862          CAT9          DEU   \n",
      "127            Monnaie de Paris            864         CAT12          FRA   \n",
      "126               The Royal Mint           886         CAT12          GBR   \n",
      "\n",
      "                              category         country continent  \n",
      "148                       Construction           Japan      Asia  \n",
      "142          Cafés, Restaurants & Bars         Austria    Europe  \n",
      "44   Distillers, Vintners, & Breweries         Germany    Europe  \n",
      "127         Manufacturing & Production          France    Europe  \n",
      "126         Manufacturing & Production  United Kingdom    Europe   \n",
      "\n"
     ]
    },
    {
     "data": {
      "text/html": [
       "<div>\n",
       "<style scoped>\n",
       "    .dataframe tbody tr th:only-of-type {\n",
       "        vertical-align: middle;\n",
       "    }\n",
       "\n",
       "    .dataframe tbody tr th {\n",
       "        vertical-align: top;\n",
       "    }\n",
       "\n",
       "    .dataframe thead th {\n",
       "        text-align: right;\n",
       "    }\n",
       "</style>\n",
       "<table border=\"1\" class=\"dataframe\">\n",
       "  <thead>\n",
       "    <tr style=\"text-align: right;\">\n",
       "      <th></th>\n",
       "      <th></th>\n",
       "      <th>year_founded</th>\n",
       "    </tr>\n",
       "    <tr>\n",
       "      <th>continent</th>\n",
       "      <th>category</th>\n",
       "      <th></th>\n",
       "    </tr>\n",
       "  </thead>\n",
       "  <tbody>\n",
       "    <tr>\n",
       "      <th rowspan=\"5\" valign=\"top\">Africa</th>\n",
       "      <th>Agriculture</th>\n",
       "      <td>1947</td>\n",
       "    </tr>\n",
       "    <tr>\n",
       "      <th>Aviation &amp; Transport</th>\n",
       "      <td>1854</td>\n",
       "    </tr>\n",
       "    <tr>\n",
       "      <th>Banking &amp; Finance</th>\n",
       "      <td>1892</td>\n",
       "    </tr>\n",
       "    <tr>\n",
       "      <th>Distillers, Vintners, &amp; Breweries</th>\n",
       "      <td>1933</td>\n",
       "    </tr>\n",
       "    <tr>\n",
       "      <th>Energy</th>\n",
       "      <td>1968</td>\n",
       "    </tr>\n",
       "  </tbody>\n",
       "</table>\n",
       "</div>"
      ],
      "text/plain": [
       "                                             year_founded\n",
       "continent category                                       \n",
       "Africa    Agriculture                                1947\n",
       "          Aviation & Transport                       1854\n",
       "          Banking & Finance                          1892\n",
       "          Distillers, Vintners, & Breweries          1933\n",
       "          Energy                                     1968"
      ]
     },
     "execution_count": 36,
     "metadata": {},
     "output_type": "execute_result"
    }
   ],
   "source": [
    "# Merge all businesses, countries, and categories together\n",
    "businesses_categories_countries = businesses_categories.merge(countries, on='country_code')\n",
    "print(businesses_categories_countries.head(), '\\n')\n",
    "\n",
    "# Sort businesses_categories_countries from oldest to most recent\n",
    "businesses_categories_countries = businesses_categories_countries.sort_values('year_founded')\n",
    "print(businesses_categories_countries.head(), '\\n')\n",
    "\n",
    "# Create the oldest by continent and category DataFrame\n",
    "oldest_by_continent_category = businesses_categories_countries.groupby(['continent', 'category']).agg({'year_founded':'min'})\n",
    "oldest_by_continent_category.head()"
   ]
  }
 ],
 "metadata": {
  "kernelspec": {
   "display_name": "Python 3 (ipykernel)",
   "language": "python",
   "name": "python3"
  },
  "language_info": {
   "codemirror_mode": {
    "name": "ipython",
    "version": 3
   },
   "file_extension": ".py",
   "mimetype": "text/x-python",
   "name": "python",
   "nbconvert_exporter": "python",
   "pygments_lexer": "ipython3",
   "version": "3.11.7"
  }
 },
 "nbformat": 4,
 "nbformat_minor": 2
}
